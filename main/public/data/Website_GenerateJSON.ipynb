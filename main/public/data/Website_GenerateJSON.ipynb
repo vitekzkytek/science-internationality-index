{
 "cells": [
  {
   "cell_type": "markdown",
   "metadata": {},
   "source": [
    "# Generate JSONs with controlling data\n",
    "\n",
    "1. Run both cells in the notebook\n",
    "\n",
    "2. Copy the file `controls_data.js` from this notebooks directory into `main/public/javascripts/` directory"
   ]
  },
  {
   "cell_type": "code",
   "execution_count": 3,
   "metadata": {},
   "outputs": [],
   "source": [
    "import pandas as pd\n",
    "methods = '\"methods\":' + pd.read_excel('populateAmazon.xlsx',sheet_name='method',index_col='method_code').to_json(None,orient='index')\n",
    "\n",
    "df_fields = pd.read_excel('populateAmazon.xlsx',sheet_name='field',index_col='field_code')\n",
    "df_fields = df_fields.loc[df_fields.level == 'TOP']\n",
    "fields = '\"fields\":' + df_fields.to_json(None,orient='index')\n",
    "df_countries = pd.read_excel('populateAmazon.xlsx',sheet_name='country',index_col='country_code')\n",
    "countries = '\"countries\":' +df_countries.to_json(None,orient='index')"
   ]
  },
  {
   "cell_type": "code",
   "execution_count": 4,
   "metadata": {},
   "outputs": [],
   "source": [
    "s = 'var controllers = {%s}' % (methods + ',' + fields + ',' + countries)\n",
    "\n",
    "with open(\"controls_data.js\", \"w\") as f:\n",
    "    f.write(s)\n",
    "\n",
    "    "
   ]
  },
  {
   "cell_type": "code",
   "execution_count": null,
   "metadata": {
    "collapsed": true
   },
   "outputs": [],
   "source": []
  },
  {
   "cell_type": "code",
   "execution_count": null,
   "metadata": {
    "collapsed": true
   },
   "outputs": [],
   "source": []
  },
  {
   "cell_type": "code",
   "execution_count": null,
   "metadata": {},
   "outputs": [],
   "source": []
  },
  {
   "cell_type": "code",
   "execution_count": null,
   "metadata": {
    "collapsed": true
   },
   "outputs": [],
   "source": []
  }
 ],
 "metadata": {
  "kernelspec": {
   "display_name": "Python 3",
   "language": "python",
   "name": "python3"
  },
  "language_info": {
   "codemirror_mode": {
    "name": "ipython",
    "version": 3
   },
   "file_extension": ".py",
   "mimetype": "text/x-python",
   "name": "python",
   "nbconvert_exporter": "python",
   "pygments_lexer": "ipython3",
   "version": "3.6.3"
  }
 },
 "nbformat": 4,
 "nbformat_minor": 2
}
